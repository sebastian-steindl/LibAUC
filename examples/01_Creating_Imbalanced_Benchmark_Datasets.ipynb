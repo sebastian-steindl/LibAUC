{
  "nbformat": 4,
  "nbformat_minor": 0,
  "metadata": {
    "colab": {
      "name": "01. Creating_Imbalanced_Benchmark_Datasets.ipynb",
      "provenance": [],
      "collapsed_sections": [],
      "toc_visible": true
    },
    "kernelspec": {
      "name": "python3",
      "display_name": "Python 3"
    },
    "language_info": {
      "name": "python"
    }
  },
    "cells": [
    {
      "cell_type": "markdown",
      "metadata": {
        "id": "BPfAfYgpobNo"
      },
      "source": [
        "*   Author: Zhuoning Yuan\n",
        "*   Project: https://github.com/yzhuoning/LibAUC\n",
        "\n"
      ]
    },
  "cells": [
    {
      "cell_type": "markdown",
      "metadata": {
        "id": "E0wuWoaVncy4"
      },
      "source": [
        "# **01.Installing LibAUC**"
      ]
    },
    {
      "cell_type": "code",
      "metadata": {
        "colab": {
          "base_uri": "https://localhost:8080/"
        },
        "id": "sfARclceZs6e",
        "outputId": "2698c714-4763-41c4-87fc-b24eb9c38b7a"
      },
      "source": [
        "!pip install libauc"
      ],
      "execution_count": null,
      "outputs": [
        {
          "output_type": "stream",
          "text": [
            "Processing ./libauc-1.0.7-py3-none-any.whl\n",
            "Installing collected packages: libauc\n",
            "Successfully installed libauc-1.0.7\n"
          ],
          "name": "stdout"
        }
      ]
    },
    {
      "cell_type": "markdown",
      "metadata": {
        "id": "IQGm3s0naLRl"
      },
      "source": [
        "# **02. Loading Datasets**\n",
        "\n",
        "This requires a [tensorflow](https://www.tensorflow.org/install) version>2.0.0.\n",
        "\n",
        "\n"
      ]
    },
    {
      "cell_type": "markdown",
      "metadata": {
        "id": "MpZo_rELajYZ"
      },
      "source": [
        "### CIFAR10\n",
        "* **Description**: The CIFAR-10 dataset consists of 60000 32x32 colour images in 10 classes, with 6000 images per class. There are 50000 training images and 10000 test images.\n",
        "* **Homepage:** https://www.cs.toronto.edu/~kriz/cifar.html\n",
        "\n"
      ]
    },
    {
      "cell_type": "code",
      "metadata": {
        "colab": {
          "base_uri": "https://localhost:8080/"
        },
        "id": "FtC2bU-FaKnL",
        "outputId": "953bea16-0e16-4cba-f282-0cfffe65cfe0"
      },
      "source": [
        "from libauc.datasets import CIFAR10\n",
        "(train_data, train_label), (test_data, test_label) = CIFAR10()"
      ],
      "execution_count": null,
      "outputs": [
        {
          "output_type": "stream",
          "text": [
            "Downloading data from https://www.cs.toronto.edu/~kriz/cifar-10-python.tar.gz\n",
            "170500096/170498071 [==============================] - 6s 0us/step\n"
          ],
          "name": "stdout"
        }
      ]
    },
    {
      "cell_type": "markdown",
      "metadata": {
        "id": "Cdocj-KMasfc"
      },
      "source": [
        "### CIFAR100\n",
        "* **Description**: This dataset is just like the CIFAR-10, except it has 100 classes containing 600 images each. There are 500 training images and 100 testing images per class. The 100 classes in the CIFAR-100 are grouped into 20 superclasses.\n",
        "* **Homepage:** https://www.cs.toronto.edu/~kriz/cifar.html\n"
      ]
    },
    {
      "cell_type": "code",
      "metadata": {
        "colab": {
          "base_uri": "https://localhost:8080/"
        },
        "id": "VLgDWQu6a1Gh",
        "outputId": "f85d8657-7e45-4230-9115-d38c72d83a81"
      },
      "source": [
        "from libauc.datasets import CIFAR100\n",
        "(train_data, train_label), (test_data, test_label) = CIFAR100()"
      ],
      "execution_count": null,
      "outputs": [
        {
          "output_type": "stream",
          "text": [
            "Downloading data from https://www.cs.toronto.edu/~kriz/cifar-100-python.tar.gz\n",
            "169009152/169001437 [==============================] - 6s 0us/step\n"
          ],
          "name": "stdout"
        }
      ]
    },
    {
      "cell_type": "markdown",
      "metadata": {
        "id": "t6a4mrJ4a4m1"
      },
      "source": [
        "### CAT_vs_DOG\n",
        "* **Description**: The training archive contains 25,000 images of dogs and cats. Train your algorithm on these files and predict the labels for 1 = dog, 0 = cat.\n",
        "* **Homepage:** https://www.kaggle.com/c/dogs-vs-cats/data\n",
        "\n"
      ]
    },
    {
      "cell_type": "code",
      "metadata": {
        "id": "QN0ZmBp3c5K8"
      },
      "source": [
        "from libauc.datasets import CAT_VS_DOG\n",
        "(train_data, train_label), (test_data, test_label) = CAT_VS_DOG()"
      ],
      "execution_count": null,
      "outputs": []
    },
    {
      "cell_type": "markdown",
      "metadata": {
        "id": "ZPIMHwJEc8IU"
      },
      "source": [
        "\n",
        "### STL10\n",
        "* **Description**: The STL-10 dataset consists of 5000 96x96 colour images in 10 classes, with 500 images per class. There are 8000 test images, with 800 images per class. \n",
        "* **Homepage:**: https://ai.stanford.edu/~acoates/stl10/\n",
        "\n"
      ]
    },
    {
      "cell_type": "code",
      "metadata": {
        "colab": {
          "base_uri": "https://localhost:8080/"
        },
        "id": "n01-eT0Yc7sm",
        "outputId": "29e5c909-a470-4f58-a39d-21eded8a2689"
      },
      "source": [
        "from libauc.datasets import STL10\n",
        "(train_data, train_label), (test_data, test_label) = STL10()"
      ],
      "execution_count": null,
      "outputs": [
        {
          "output_type": "stream",
          "text": [
            "Downloading data from http://ai.stanford.edu/~acoates/stl10/stl10_binary.tar.gz\n",
            "2640404480/2640397119 [==============================] - 152s 0us/step\n"
          ],
          "name": "stdout"
        }
      ]
    },
    {
      "cell_type": "markdown",
      "metadata": {
        "id": "H0fg05gle6IK"
      },
      "source": [
        "# **03. Constructing Imbalanced Datasets**\n",
        "\n"
      ]
    },
    {
      "cell_type": "markdown",
      "metadata": {
        "id": "a6qn_PzQfZRH"
      },
      "source": [
        "Import *imbalance_generator* function"
      ]
    },
    {
      "cell_type": "code",
      "metadata": {
        "id": "Fq0wTGP7e5qX"
      },
      "source": [
        "from libauc.datasets import imbalance_generator "
      ],
      "execution_count": null,
      "outputs": []
    },
    {
      "cell_type": "markdown",
      "metadata": {
        "id": "hXgMrGfif1vL"
      },
      "source": [
        "Set *random_seed=123* and *imbalance_ratio=0.1*"
      ]
    },
    {
      "cell_type": "code",
      "metadata": {
        "id": "vgAX-iwGf9Po"
      },
      "source": [
        "SEED = 123\n",
        "imratio = 0.1 # postive_samples/(total_samples)"
      ],
      "execution_count": null,
      "outputs": []
    },
    {
      "cell_type": "markdown",
      "metadata": {
        "id": "fhSh3jy4f-3S"
      },
      "source": [
        "We have the new imbalanced datasets, consisting of 2777 positive images and 25000 negative images for training set. For testing set, we keep them unchanged."
      ]
    },
    {
      "cell_type": "code",
      "metadata": {
        "colab": {
          "base_uri": "https://localhost:8080/"
        },
        "id": "U06_n4Znf1YA",
        "outputId": "7cbc9ca1-7278-446c-efe8-924ff3c6a1b9"
      },
      "source": [
        "from libauc.datasets import CIFAR10\n",
        "(train_data, train_label), (test_data, test_label) = CIFAR10()\n",
        "(train_images, train_labels) = imbalance_generator(train_data, train_label, imratio=imratio, shuffle=True, random_seed=SEED)\n",
        "(test_images, test_labels) = imbalance_generator(test_data, test_label, is_balanced=True, random_seed=SEED)"
      ],
      "execution_count": null,
      "outputs": [
        {
          "output_type": "stream",
          "text": [
            "NUM_SAMPLES: [27777], POS:NEG: [2777 : 25000], POS_RATIO: 0.1000\n",
            "NUM_SAMPLES: [10000], POS:NEG: [5000 : 5000], POS_RATIO: 0.5000\n"
          ],
          "name": "stdout"
        }
      ]
    },
    {
      "cell_type": "markdown",
      "metadata": {
        "id": "fTaTzcgdg3Zz"
      },
      "source": [
        "# **04. Preparing datasets for training with DataLoaders**"
      ]
    },
    {
      "cell_type": "code",
      "metadata": {
        "id": "MjKOgKKtg5ox"
      },
      "source": [
        "import torch\n",
        "from torch.utils.data import Dataset, DataLoader\n",
        "import torchvision.transforms as transforms\n",
        "import numpy as np\n",
        "\n",
        "class ImageDataset(Dataset):\n",
        "    def __init__(self, images, targets, image_size=32, crop_size=30, mode='train'):\n",
        "       self.images = images.astype(np.uint8)\n",
        "       self.targets = targets\n",
        "       self.mode = mode\n",
        "       self.transform_train = transforms.Compose([                                                \n",
        "                              transforms.ToTensor(),\n",
        "                              transforms.RandomCrop((crop_size, crop_size), padding=None),\n",
        "                              transforms.RandomHorizontalFlip(),\n",
        "                              transforms.Resize((image_size, image_size)),\n",
        "                              ])\n",
        "       self.transform_test = transforms.Compose([\n",
        "                             transforms.ToTensor(),\n",
        "                             transforms.Resize((image_size, image_size)),\n",
        "                              ])\n",
        "    def __len__(self):\n",
        "        return len(self.images)\n",
        "\n",
        "    def __getitem__(self, idx):\n",
        "        image = self.images[idx]\n",
        "        target = self.targets[idx]\n",
        "        image = Image.fromarray(image.astype('uint8'))\n",
        "        if self.mode == 'train':\n",
        "            image = self.transform_train(image)\n",
        "        else:\n",
        "            image = self.transform_test(image)\n",
        "        return image, target\n",
        "  \n",
        "\n",
        "trainloader = DataLoader(ImageDataset(train_images, train_labels, mode='train'), batch_size=128, shuffle=True, num_workers=2, pin_memory=True)\n",
        "testloader = DataLoader(ImageDataset(test_images, test_labels, mode='test'), batch_size=128, shuffle=False, num_workers=2,  pin_memory=True)"
      ],
      "execution_count": 25,
      "outputs": []
    },
    {
      "cell_type": "markdown",
      "metadata": {
        "id": "o7Yuvnn8gb0s"
      },
      "source": [
        "Now, we are ready to train models using the new imbalanced dataset. "
      ]
    }
  ]
}