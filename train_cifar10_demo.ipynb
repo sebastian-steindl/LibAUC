{
  "nbformat": 4,
  "nbformat_minor": 0,
  "metadata": {
    "accelerator": "GPU",
    "colab": {
      "name": "LibAUC_CIFAR10_Demo",
      "provenance": [],
      "collapsed_sections": [],
      "machine_shape": "hm"
    },
    "kernelspec": {
      "display_name": "Python 3",
      "name": "python3"
    },
    "language_info": {
      "name": "python"
    }
  },
  "cells": [
    {
      "cell_type": "markdown",
      "metadata": {
        "id": "kk6-FQcKQOzJ"
      },
      "source": [
        "# **Install package**"
      ]
    },
    {
      "cell_type": "code",
      "metadata": {
        "colab": {
          "base_uri": "https://localhost:8080/"
        },
        "id": "D_sahClTabRJ",
        "outputId": "6cc575e3-2bf6-4c8d-a26d-31d66ef4866a"
      },
      "source": [
        "!pip install libauc"
      ],
      "execution_count": 1,
      "outputs": [
        {
          "output_type": "stream",
          "text": [
            "Requirement already satisfied: libauc in /usr/local/lib/python3.7/dist-packages (1.0.3)\n"
          ],
          "name": "stdout"
        }
      ]
    },
    {
      "cell_type": "markdown",
      "metadata": {
        "id": "TYTvudnlQMEX"
      },
      "source": [
        "# **Import LibAUC**"
      ]
    },
    {
      "cell_type": "code",
      "metadata": {
        "id": "HBdrV5mOV9ze"
      },
      "source": [
        "from libauc.losses import AUCMLoss\n",
        "from libauc.optimizers import PESG\n",
        "from libauc.models import ResNet18\n",
        "from libauc.datasets import CIFAR10\n",
        "from libauc.datasets import imbalance_generator \n",
        "\n",
        "import torch \n",
        "from PIL import Image\n",
        "import numpy as np\n",
        "import torchvision.transforms as transforms\n",
        "from torch.utils.data import Dataset\n",
        "from sklearn.metrics import roc_auc_score"
      ],
      "execution_count": 2,
      "outputs": []
    },
    {
      "cell_type": "markdown",
      "metadata": {
        "id": "es5s_FmjQb3f"
      },
      "source": [
        "# **Reproducibility**"
      ]
    },
    {
      "cell_type": "code",
      "metadata": {
        "id": "lLE8AZOLQWIx"
      },
      "source": [
        "def set_all_seeds(SEED):\n",
        "    # REPRODUCIBILITY\n",
        "    torch.manual_seed(SEED)\n",
        "    np.random.seed(SEED)\n",
        "    torch.backends.cudnn.deterministic = True\n",
        "    torch.backends.cudnn.benchmark = False"
      ],
      "execution_count": 3,
      "outputs": []
    },
    {
      "cell_type": "markdown",
      "metadata": {
        "id": "5oK9UxWhQy00"
      },
      "source": [
        "# **Imagedataset**"
      ]
    },
    {
      "cell_type": "code",
      "metadata": {
        "id": "Y7rC7aTuQ2cX"
      },
      "source": [
        "class ImageDataset(Dataset):\n",
        "    def __init__(self, images, targets, mode='train'):\n",
        "       self.images = images.astype(np.uint8)\n",
        "       self.targets = targets\n",
        "       self.mode = mode\n",
        "       self.transform_train = transforms.Compose([\n",
        "                              transforms.RandomCrop((30, 30), padding=None),\n",
        "                              transforms.RandomHorizontalFlip(),\n",
        "                              transforms.Resize((32, 32)),\n",
        "                              transforms.ToTensor(),\n",
        "                              ])\n",
        "       self.transform_test = transforms.Compose([\n",
        "                             transforms.Resize((32, 32)),\n",
        "                             transforms.ToTensor(),\n",
        "                              ])\n",
        "    def __len__(self):\n",
        "        return len(self.images)\n",
        "\n",
        "    def __getitem__(self, idx):\n",
        "        image = self.images[idx]\n",
        "        target = self.targets[idx]\n",
        "        image = Image.fromarray(image.astype('uint8'))\n",
        "        if self.mode == 'train':\n",
        "            image = self.transform_train(image)\n",
        "        else:\n",
        "            image = self.transform_test(image)\n",
        "        return image, target"
      ],
      "execution_count": 4,
      "outputs": []
    },
    {
      "cell_type": "markdown",
      "metadata": {
        "id": "YjTW36iTQ60Q"
      },
      "source": [
        "# **Paramaters**"
      ]
    },
    {
      "cell_type": "code",
      "metadata": {
        "id": "STRhOR7YQ4_r"
      },
      "source": [
        "# paramaters\n",
        "SEED = 123\n",
        "BATCH_SIZE = 64\n",
        "imratio = 0.1\n",
        "lr = 0.1\n",
        "gamma = 300\n",
        "weight_decay = 1e-4\n",
        "margin = 1.0"
      ],
      "execution_count": 5,
      "outputs": []
    },
    {
      "cell_type": "markdown",
      "metadata": {
        "id": "5fgzICg5Q-RE"
      },
      "source": [
        "# **Load datasets**"
      ]
    },
    {
      "cell_type": "code",
      "metadata": {
        "colab": {
          "base_uri": "https://localhost:8080/"
        },
        "id": "nGbjRYxqQ9sv",
        "outputId": "615ab844-21fd-480e-9155-7109112169df"
      },
      "source": [
        "# dataloader \n",
        "(train_data, train_label), (test_data, test_label) = CIFAR10()\n",
        "(train_images, train_labels) = imbalance_generator(train_data, train_label, imratio=imratio, shuffle=True, random_seed=SEED)\n",
        "(test_images, test_labels) = imbalance_generator(test_data, test_label, is_balanced=True,  random_seed=SEED)\n",
        "\n",
        "trainloader = torch.utils.data.DataLoader(ImageDataset(train_images, train_labels), batch_size=BATCH_SIZE, shuffle=True, num_workers=1, pin_memory=True, drop_last=True)\n",
        "testloader = torch.utils.data.DataLoader( ImageDataset(test_images, test_labels, mode='test'), batch_size=BATCH_SIZE, shuffle=False, num_workers=1,  pin_memory=True)"
      ],
      "execution_count": 6,
      "outputs": [
        {
          "output_type": "stream",
          "text": [
            "NUM_SAMPLES: [27777], POS:NEG: [2777 : 25000], POS_RATIO: 0.1000\n",
            "NUM_SAMPLES: [10000], POS:NEG: [5000 : 5000], POS_RATIO: 0.5000\n"
          ],
          "name": "stdout"
        }
      ]
    },
    {
      "cell_type": "markdown",
      "metadata": {
        "id": "_MrH548IRDIc"
      },
      "source": [
        "# **Load models & AUC Optimizer**"
      ]
    },
    {
      "cell_type": "code",
      "metadata": {
        "id": "cFxB8QblRCt5"
      },
      "source": [
        "model = ResNet18(pretrained=False)\n",
        "model = model.cuda()\n",
        "\n",
        "Loss = AUCMLoss(imratio=imratio)\n",
        "optimizer = PESG(model, a=Loss.a, b=Loss.b, alpha=Loss.alpha, imratio=imratio, lr=lr, gamma=gamma, margin=margin, weight_decay=weight_decay)"
      ],
      "execution_count": 7,
      "outputs": []
    },
    {
      "cell_type": "markdown",
      "metadata": {
        "id": "fG5VXXEIRfw3"
      },
      "source": [
        "# **Training**"
      ]
    },
    {
      "cell_type": "code",
      "metadata": {
        "colab": {
          "base_uri": "https://localhost:8080/"
        },
        "id": "H1nk8FK3Qygb",
        "outputId": "967fe8a1-61db-44ee-ef5d-e1fc903a5b7e"
      },
      "source": [
        "for epoch in range(100):\n",
        "    \n",
        "     if epoch == 50 or epoch==75:\n",
        "         optimizer.lr = optimizer.lr/10\n",
        "         optimizer.update_regularizer()\n",
        "   \n",
        "     train_pred = []\n",
        "     train_true = []\n",
        "     model.train()    \n",
        "     for data, targets in trainloader:\n",
        "         data, targets  = data.cuda(), targets.cuda()\n",
        "         y_pred = model(data)\n",
        "         loss = Loss(y_pred, targets)\n",
        "         optimizer.zero_grad()\n",
        "         loss.backward(retain_graph=True)\n",
        "         optimizer.step()\n",
        "        \n",
        "         train_pred.append(y_pred.cpu().detach().numpy())\n",
        "         train_true.append(targets.cpu().detach().numpy())\n",
        "\n",
        "     train_true = np.concatenate(train_true)\n",
        "     train_pred = np.concatenate(train_pred)\n",
        "     train_auc = roc_auc_score(train_true, train_pred) \n",
        "\n",
        "     model.eval()\n",
        "     test_pred = []\n",
        "     test_true = [] \n",
        "     for j, data in enumerate(testloader):\n",
        "         test_data, test_targets = data\n",
        "         test_data = test_data.cuda()\n",
        "         y_pred = model(test_data)\n",
        "         test_pred.append(y_pred.cpu().detach().numpy())\n",
        "         test_true.append(test_targets.numpy())\n",
        "     test_true = np.concatenate(test_true)\n",
        "     test_pred = np.concatenate(test_pred)\n",
        "     val_auc =  roc_auc_score(test_true, test_pred) \n",
        "     model.train()\n",
        "   \n",
        "     # print results\n",
        "     print(\"epoch: {}, train_loss: {:4f}, train_auc:{:4f}, test_auc:{:4f}, lr:{:4f}\".format(epoch, loss.item(), train_auc, val_auc, optimizer.lr ))          "
      ],
      "execution_count": null,
      "outputs": [
        {
          "output_type": "stream",
          "text": [
            "epoch: 0, train_loss: 0.081256, train_auc:0.600130, test_auc:0.620038, lr:0.100000\n",
            "epoch: 1, train_loss: 0.060751, train_auc:0.664095, test_auc:0.683009, lr:0.100000\n",
            "epoch: 2, train_loss: 0.091481, train_auc:0.702076, test_auc:0.711413, lr:0.100000\n",
            "epoch: 3, train_loss: 0.092363, train_auc:0.729838, test_auc:0.730042, lr:0.100000\n",
            "epoch: 4, train_loss: 0.065447, train_auc:0.753200, test_auc:0.721380, lr:0.100000\n",
            "epoch: 5, train_loss: 0.071429, train_auc:0.773943, test_auc:0.754498, lr:0.100000\n",
            "epoch: 6, train_loss: 0.048350, train_auc:0.784072, test_auc:0.737505, lr:0.100000\n"
          ],
          "name": "stdout"
        }
      ]
    }
  ]
}
